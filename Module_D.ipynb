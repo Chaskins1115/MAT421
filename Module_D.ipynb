{
  "nbformat": 4,
  "nbformat_minor": 0,
  "metadata": {
    "colab": {
      "provenance": [],
      "authorship_tag": "ABX9TyMIXdUX/RbX6Z447QbFEe2Y",
      "include_colab_link": true
    },
    "kernelspec": {
      "name": "python3",
      "display_name": "Python 3"
    },
    "language_info": {
      "name": "python"
    }
  },
  "cells": [
    {
      "cell_type": "markdown",
      "metadata": {
        "id": "view-in-github",
        "colab_type": "text"
      },
      "source": [
        "<a href=\"https://colab.research.google.com/github/Chaskins1115/MAT421/blob/main/Module_D.ipynb\" target=\"_parent\"><img src=\"https://colab.research.google.com/assets/colab-badge.svg\" alt=\"Open In Colab\"/></a>"
      ]
    },
    {
      "cell_type": "markdown",
      "source": [
        "1.3 Linear Regression\n",
        "QR Decomposition - a useful procedure to solve the linear least square problem using Gram-Schmidt."
      ],
      "metadata": {
        "id": "1Ia73me4i5jp"
      }
    },
    {
      "cell_type": "code",
      "execution_count": 2,
      "metadata": {
        "colab": {
          "base_uri": "https://localhost:8080/"
        },
        "id": "GfeVfjNihqZE",
        "outputId": "b67e2f14-38c9-4676-8891-6af4121ac79a"
      },
      "outputs": [
        {
          "output_type": "stream",
          "name": "stdout",
          "text": [
            "Q: [[ 0. -1.]\n",
            " [-1.  0.]]\n",
            "R: [[-2. -3.]\n",
            " [ 0. -2.]]\n",
            "QR: [[0. 2.]\n",
            " [2. 3.]]\n",
            "Iteration 1:\n",
            "[[3. 2.]\n",
            " [2. 0.]]\n",
            "Iteration 20:\n",
            "[[ 4.00000000e+00  9.09484250e-12]\n",
            " [ 9.09494702e-12 -1.00000000e+00]]\n"
          ]
        }
      ],
      "source": [
        "import numpy as np\n",
        "from numpy.linalg import qr\n",
        "x = np.array([[0, 2], [2, 3]])\n",
        "\n",
        "Q,R = qr(x)\n",
        "print('Q:', Q)\n",
        "print('R:', R)\n",
        "\n",
        "z = np.dot(Q, R)\n",
        "print('QR:', z)\n",
        "\n",
        "iterations = [1, 20]\n",
        "for i in range(20):\n",
        "    Q,R = qr(x)\n",
        "    x = np.dot(R, Q)\n",
        "    if i+1 in iterations:\n",
        "        print(f'Iteration {i+1}:')\n",
        "        print(x)"
      ]
    }
  ]
}