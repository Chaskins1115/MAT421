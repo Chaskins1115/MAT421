{
  "nbformat": 4,
  "nbformat_minor": 0,
  "metadata": {
    "colab": {
      "provenance": [],
      "authorship_tag": "ABX9TyMT8lGDQsQ4IL3Yl71y0TFV",
      "include_colab_link": true
    },
    "kernelspec": {
      "name": "python3",
      "display_name": "Python 3"
    },
    "language_info": {
      "name": "python"
    }
  },
  "cells": [
    {
      "cell_type": "markdown",
      "metadata": {
        "id": "view-in-github",
        "colab_type": "text"
      },
      "source": [
        "<a href=\"https://colab.research.google.com/github/Chaskins1115/MAT421/blob/main/MAT421_21_1%2C_21_2%2C_21_3.ipynb\" target=\"_parent\"><img src=\"https://colab.research.google.com/assets/colab-badge.svg\" alt=\"Open In Colab\"/></a>"
      ]
    },
    {
      "cell_type": "markdown",
      "source": [
        "**21.2 Reimann's Integral**"
      ],
      "metadata": {
        "id": "oL6QYQG-xcsy"
      }
    },
    {
      "cell_type": "code",
      "source": [
        "import numpy as np \n",
        "a = 0 \n",
        "b = np.pi\n",
        "n = 10\n",
        "h = (b - a)/(n - 1)\n",
        "x = np.linspace(a,b,n)\n",
        "f = np.cos(x)\n",
        "\n",
        "I_rl = h * sum(f[:n-1])\n",
        "err_rl = 0 - I_rl\n",
        "\n",
        "I_rr = h * sum(f[1:])\n",
        "err_rr = 0 - I_rr\n",
        "\n",
        "I_mid = h * sum(np.cos((x[:n-1] + x[1:]) / 2 ))\n",
        "err_mid = 0 - I_mid\n",
        "\n",
        "print(I_rl)\n",
        "print(err_rl)\n",
        "\n",
        "print(I_rr)\n",
        "print(err_rr)\n",
        "\n",
        "print(I_mid)\n",
        "print(err_mid)"
      ],
      "metadata": {
        "colab": {
          "base_uri": "https://localhost:8080/"
        },
        "id": "09CIXYMaxe1V",
        "outputId": "2cb72905-28e0-4c4b-f980-0535f16144a0"
      },
      "execution_count": 3,
      "outputs": [
        {
          "output_type": "stream",
          "name": "stdout",
          "text": [
            "0.34906585039886606\n",
            "-0.34906585039886606\n",
            "-0.3490658503988656\n",
            "0.3490658503988656\n",
            "1.5501637768927252e-16\n",
            "-1.5501637768927252e-16\n"
          ]
        }
      ]
    },
    {
      "cell_type": "markdown",
      "source": [
        "\n",
        "**21.3 Trapezoid Rule**"
      ],
      "metadata": {
        "id": "gjT2H5-JxMje"
      }
    },
    {
      "cell_type": "code",
      "execution_count": 2,
      "metadata": {
        "colab": {
          "base_uri": "https://localhost:8080/"
        },
        "id": "vAfGZAVYxE22",
        "outputId": "928fe297-5ff7-4f67-c49e-f794c747db29"
      },
      "outputs": [
        {
          "output_type": "stream",
          "name": "stdout",
          "text": [
            "2.092721098805179e-16\n",
            "-2.092721098805179e-16\n"
          ]
        }
      ],
      "source": [
        "import numpy as np\n",
        "\n",
        "a = 0 \n",
        "b = np.pi\n",
        "n = 11\n",
        "h = (b - a)/(n - 1)\n",
        "x = np.linspace(a,b,n)\n",
        "f = np.cos(x)\n",
        "\n",
        "I_trap = (h/2)*(f[0] + 2*sum(f[1:n-1]) + f[n-1])\n",
        "err_trap = 0 - I_trap\n",
        "\n",
        "print(I_trap)\n",
        "print(err_trap)"
      ]
    },
    {
      "cell_type": "markdown",
      "source": [],
      "metadata": {
        "id": "SEO-Gn90xMCm"
      }
    }
  ]
}