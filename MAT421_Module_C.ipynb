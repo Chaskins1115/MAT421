{
  "nbformat": 4,
  "nbformat_minor": 0,
  "metadata": {
    "colab": {
      "provenance": [],
      "authorship_tag": "ABX9TyN0rVTbNKMvu3835a6gEB+o",
      "include_colab_link": true
    },
    "kernelspec": {
      "name": "python3",
      "display_name": "Python 3"
    },
    "language_info": {
      "name": "python"
    }
  },
  "cells": [
    {
      "cell_type": "markdown",
      "metadata": {
        "id": "view-in-github",
        "colab_type": "text"
      },
      "source": [
        "<a href=\"https://colab.research.google.com/github/Chaskins1115/MAT421/blob/main/MAT421_Module_C.ipynb\" target=\"_parent\"><img src=\"https://colab.research.google.com/assets/colab-badge.svg\" alt=\"Open In Colab\"/></a>"
      ]
    },
    {
      "cell_type": "markdown",
      "source": [
        "**19.1**\n",
        "\n",
        "The root or zero of a funtion, f(x), is an xr such that f(xr)= 0.\n",
        "\n",
        "Using fsolve funtion from spicy, compute the root of f(x) = cos(x) - 4x near -6. Verify that the solution is a root.\n"
      ],
      "metadata": {
        "id": "qaD_mURWL4wd"
      }
    },
    {
      "cell_type": "code",
      "source": [
        "\n",
        "import numpy as np\n",
        "from scipy import optimize \n",
        "\n",
        "f = lambda x: np.cos(x) - 4*x\n",
        "r = optimize.fsolve(f, -6)\n",
        "print(\"r =\", r)\n",
        "\n",
        "result = f(r)\n",
        "print(\"result =\", result)"
      ],
      "metadata": {
        "colab": {
          "base_uri": "https://localhost:8080/"
        },
        "id": "Yua4p-oTMAen",
        "outputId": "6e7f6869-63f5-4344-ab21-163d2e88d2e9"
      },
      "execution_count": 1,
      "outputs": [
        {
          "output_type": "stream",
          "name": "stdout",
          "text": [
            "r = [0.24267468]\n",
            "result = [0.]\n"
          ]
        }
      ]
    },
    {
      "cell_type": "markdown",
      "source": [
        "**19.5**\n",
        "Compute the root of the function 𝑓(𝑥)=𝑥^3−100𝑥^2−𝑥+100 using f_solve."
      ],
      "metadata": {
        "id": "FsOZeD63NqJ3"
      }
    },
    {
      "cell_type": "code",
      "source": [
        "from scipy.optimize import fsolve\n",
        "\n",
        "f = lambda x: x**3 - 100*x**2 - x + 100\n",
        "fsolve(f, [2,80])"
      ],
      "metadata": {
        "colab": {
          "base_uri": "https://localhost:8080/"
        },
        "id": "WaXpgSZlN01o",
        "outputId": "a9ad83f9-1363-4b56-d7e8-6fbc947533b6"
      },
      "execution_count": 14,
      "outputs": [
        {
          "output_type": "execute_result",
          "data": {
            "text/plain": [
              "array([  1., 100.])"
            ]
          },
          "metadata": {},
          "execution_count": 14
        }
      ]
    }
  ]
}